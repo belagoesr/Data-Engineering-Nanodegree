{
 "cells": [
  {
   "cell_type": "code",
   "execution_count": 1,
   "metadata": {
    "editable": true
   },
   "outputs": [],
   "source": [
    "from pyspark.sql import SparkSession\n",
    "import os\n",
    "import configparser\n",
    "import  pyspark.sql.functions as F\n",
    "from pyspark.sql.functions import year, month, date_format, dayofmonth, hour, dayofweek, weekofyear\n",
    "from pyspark.sql.types import StructType as R, StructField as Fld, DoubleType as Dbl, StringType as Str, IntegerType as Int, DateType as Dat, TimestampType"
   ]
  },
  {
   "cell_type": "code",
   "execution_count": 2,
   "metadata": {
    "editable": true
   },
   "outputs": [],
   "source": [
    "config = configparser.ConfigParser()\n",
    "\n",
    "config.read_file(open('dl.cfg'))\n",
    "\n",
    "os.environ[\"AWS_ACCESS_KEY_ID\"]= config['AWS']['AWS_ACCESS_KEY_ID']\n",
    "os.environ[\"AWS_SECRET_ACCESS_KEY\"]= config['AWS']['AWS_SECRET_ACCESS_KEY']"
   ]
  },
  {
   "cell_type": "code",
   "execution_count": 212,
   "metadata": {
    "editable": true
   },
   "outputs": [],
   "source": [
    "output_path='s3a://sparkify-dend-igrc/'"
   ]
  },
  {
   "cell_type": "markdown",
   "metadata": {
    "editable": true
   },
   "source": [
    "## Step 1 - Create a Spark Session using hadoop-aws package"
   ]
  },
  {
   "cell_type": "code",
   "execution_count": 3,
   "metadata": {
    "editable": true
   },
   "outputs": [],
   "source": [
    "spark = SparkSession.builder\\\n",
    "                     .config(\"spark.jars.packages\",\"org.apache.hadoop:hadoop-aws:2.7.0\")\\\n",
    "                     .getOrCreate()"
   ]
  },
  {
   "cell_type": "markdown",
   "metadata": {
    "editable": true
   },
   "source": [
    "## Step 2 -  Process Song Data from S3"
   ]
  },
  {
   "cell_type": "code",
   "execution_count": 242,
   "metadata": {
    "editable": true
   },
   "outputs": [],
   "source": [
    "df = spark.read.json(\"s3a://udacity-dend/song_data/A/B/C/*.json\")"
   ]
  },
  {
   "cell_type": "code",
   "execution_count": 243,
   "metadata": {
    "editable": true
   },
   "outputs": [
    {
     "name": "stdout",
     "output_type": "stream",
     "text": [
      "root\n",
      " |-- artist_id: string (nullable = true)\n",
      " |-- artist_latitude: double (nullable = true)\n",
      " |-- artist_location: string (nullable = true)\n",
      " |-- artist_longitude: double (nullable = true)\n",
      " |-- artist_name: string (nullable = true)\n",
      " |-- duration: double (nullable = true)\n",
      " |-- num_songs: long (nullable = true)\n",
      " |-- song_id: string (nullable = true)\n",
      " |-- title: string (nullable = true)\n",
      " |-- year: long (nullable = true)\n",
      "\n"
     ]
    }
   ],
   "source": [
    "df.printSchema()"
   ]
  },
  {
   "cell_type": "code",
   "execution_count": 39,
   "metadata": {
    "editable": true
   },
   "outputs": [
    {
     "name": "stdout",
     "output_type": "stream",
     "text": [
      "+------------------+---------------+---------------+----------------+-----------+---------+---------+------------------+--------------------+----+\n",
      "|         artist_id|artist_latitude|artist_location|artist_longitude|artist_name| duration|num_songs|           song_id|               title|year|\n",
      "+------------------+---------------+---------------+----------------+-----------+---------+---------+------------------+--------------------+----+\n",
      "|ARLTWXK1187FB5A3F8|       32.74863| Fort Worth, TX|       -97.32925|King Curtis|326.00771|        1|SODREIN12A58A7F2E5|A Whiter Shade Of...|   0|\n",
      "+------------------+---------------+---------------+----------------+-----------+---------+---------+------------------+--------------------+----+\n",
      "only showing top 1 row\n",
      "\n"
     ]
    }
   ],
   "source": [
    "df.show(1)"
   ]
  },
  {
   "cell_type": "markdown",
   "metadata": {
    "editable": true
   },
   "source": [
    "**Songs table**"
   ]
  },
  {
   "cell_type": "code",
   "execution_count": 244,
   "metadata": {
    "editable": true
   },
   "outputs": [],
   "source": [
    "df.createOrReplaceTempView('songs')"
   ]
  },
  {
   "cell_type": "code",
   "execution_count": 250,
   "metadata": {
    "editable": true
   },
   "outputs": [],
   "source": [
    "songs_table = spark.sql(\"\"\"\n",
    "    SELECT DISTINCT (song_id), \n",
    "        title, \n",
    "        artist_id, \n",
    "        year, \n",
    "        duration \n",
    "    FROM songs\n",
    "    DISTRIBUTE BY (year, artist_id)\n",
    "\"\"\");"
   ]
  },
  {
   "cell_type": "code",
   "execution_count": 251,
   "metadata": {
    "editable": true
   },
   "outputs": [
    {
     "name": "stdout",
     "output_type": "stream",
     "text": [
      "+------------------+--------------------+------------------+----+---------+\n",
      "|           song_id|               title|         artist_id|year| duration|\n",
      "+------------------+--------------------+------------------+----+---------+\n",
      "|SOWQTQZ12A58A7B63E|Streets On Fire (...|ARPFHN61187FB575F6|   0|279.97995|\n",
      "|SONSKXP12A8C13A2C9|         Native Soul|AR0IAWL1187B9A96D0|2003|197.19791|\n",
      "|SORRZGD12A6310DBC3|      Harajuku Girls|ARVBRGZ1187FB4675A|2004|290.55955|\n",
      "|SOBHXUU12A6D4F5F14|National Emblem (...|ARBDJHO1252CCFA6FC|   0|188.73424|\n",
      "|SOIKLJM12A8C136355|           Eso Duele|AR7AE0W1187B98E40E|2003|196.25751|\n",
      "+------------------+--------------------+------------------+----+---------+\n",
      "only showing top 5 rows\n",
      "\n"
     ]
    }
   ],
   "source": [
    "songs_table.show(5)"
   ]
  },
  {
   "cell_type": "code",
   "execution_count": 256,
   "metadata": {
    "editable": true
   },
   "outputs": [],
   "source": [
    "songs_table.write.partitionBy(\"year\", \"artist_id\").parquet('songs/songs.parquet')"
   ]
  },
  {
   "cell_type": "markdown",
   "metadata": {
    "editable": true
   },
   "source": [
    "**Artists Table**"
   ]
  },
  {
   "cell_type": "code",
   "execution_count": 49,
   "metadata": {
    "editable": true
   },
   "outputs": [],
   "source": [
    "artists_table = spark.sql(\"\"\"\n",
    "    SELECT DISTINCT(artist_id), \n",
    "        artist_name, \n",
    "        artist_location, \n",
    "        artist_latitude, \n",
    "        artist_longitude\n",
    "    FROM songs\n",
    "\"\"\");"
   ]
  },
  {
   "cell_type": "code",
   "execution_count": 50,
   "metadata": {
    "editable": true
   },
   "outputs": [
    {
     "name": "stdout",
     "output_type": "stream",
     "text": [
      "+------------------+--------------------+------------------+---------------+----------------+\n",
      "|         artist_id|         artist_name|   artist_location|artist_latitude|artist_longitude|\n",
      "+------------------+--------------------+------------------+---------------+----------------+\n",
      "|ARBDJHO1252CCFA6FC|The Band of HM Ro...|                  |           null|            null|\n",
      "|ARAADXM1187FB3ECDB|    Styles Of Beyond|Woodland Hills, CA|        34.1688|      -118.61092|\n",
      "|ARCWVUK1187FB3C71A|     Brigitte Bardot|                  |           null|            null|\n",
      "|AR0IAWL1187B9A96D0|        Danilo Perez|            Panama|         8.4177|       -80.11278|\n",
      "|ARJIE2Y1187B994AB7|         Line Renaud|                  |           null|            null|\n",
      "+------------------+--------------------+------------------+---------------+----------------+\n",
      "only showing top 5 rows\n",
      "\n"
     ]
    }
   ],
   "source": [
    "artists_table.show(5)"
   ]
  },
  {
   "cell_type": "code",
   "execution_count": 51,
   "metadata": {
    "editable": true
   },
   "outputs": [],
   "source": [
    "artists_table.write.parquet('artists/')"
   ]
  },
  {
   "cell_type": "markdown",
   "metadata": {
    "editable": true
   },
   "source": [
    "## Step 3: Load and process Events log data"
   ]
  },
  {
   "cell_type": "code",
   "execution_count": 182,
   "metadata": {
    "editable": true
   },
   "outputs": [],
   "source": [
    "df_log = spark.read.json(\"s3a://udacity-dend/log_data/2018/11/*.json\")"
   ]
  },
  {
   "cell_type": "code",
   "execution_count": 183,
   "metadata": {
    "editable": true
   },
   "outputs": [
    {
     "name": "stdout",
     "output_type": "stream",
     "text": [
      "root\n",
      " |-- artist: string (nullable = true)\n",
      " |-- auth: string (nullable = true)\n",
      " |-- firstName: string (nullable = true)\n",
      " |-- gender: string (nullable = true)\n",
      " |-- itemInSession: long (nullable = true)\n",
      " |-- lastName: string (nullable = true)\n",
      " |-- length: double (nullable = true)\n",
      " |-- level: string (nullable = true)\n",
      " |-- location: string (nullable = true)\n",
      " |-- method: string (nullable = true)\n",
      " |-- page: string (nullable = true)\n",
      " |-- registration: double (nullable = true)\n",
      " |-- sessionId: long (nullable = true)\n",
      " |-- song: string (nullable = true)\n",
      " |-- status: long (nullable = true)\n",
      " |-- ts: long (nullable = true)\n",
      " |-- userAgent: string (nullable = true)\n",
      " |-- userId: string (nullable = true)\n",
      "\n",
      "+--------+---------+---------+------+-------------+--------+---------+-----+--------------------+------+--------+-----------------+---------+-------------+------+-------------+--------------------+------+\n",
      "|  artist|     auth|firstName|gender|itemInSession|lastName|   length|level|            location|method|    page|     registration|sessionId|         song|status|           ts|           userAgent|userId|\n",
      "+--------+---------+---------+------+-------------+--------+---------+-----+--------------------+------+--------+-----------------+---------+-------------+------+-------------+--------------------+------+\n",
      "|Harmonia|Logged In|     Ryan|     M|            0|   Smith|655.77751| free|San Jose-Sunnyval...|   PUT|NextSong|1.541016707796E12|      583|Sehr kosmisch|   200|1542241826796|\"Mozilla/5.0 (X11...|    26|\n",
      "+--------+---------+---------+------+-------------+--------+---------+-----+--------------------+------+--------+-----------------+---------+-------------+------+-------------+--------------------+------+\n",
      "only showing top 1 row\n",
      "\n"
     ]
    }
   ],
   "source": [
    "df_log.printSchema()\n",
    "df_log.show(1)"
   ]
  },
  {
   "cell_type": "code",
   "execution_count": 215,
   "metadata": {
    "editable": true
   },
   "outputs": [],
   "source": [
    "df_log.createOrReplaceTempView(\"events\");"
   ]
  },
  {
   "cell_type": "code",
   "execution_count": null,
   "metadata": {
    "editable": true
   },
   "outputs": [],
   "source": [
    "# filter actions and convert timestamp format"
   ]
  },
  {
   "cell_type": "code",
   "execution_count": 219,
   "metadata": {
    "editable": true
   },
   "outputs": [
    {
     "name": "stdout",
     "output_type": "stream",
     "text": [
      "+-----------+---------+---------+------+-------------+--------+---------+-----+--------------------+------+--------+-----------------+---------+--------------------+------+-------------+--------------------+------+--------------------+\n",
      "|     artist|     auth|firstName|gender|itemInSession|lastName|   length|level|            location|method|    page|     registration|sessionId|                song|status|           ts|           userAgent|userId|          start_time|\n",
      "+-----------+---------+---------+------+-------------+--------+---------+-----+--------------------+------+--------+-----------------+---------+--------------------+------+-------------+--------------------+------+--------------------+\n",
      "|   Harmonia|Logged In|     Ryan|     M|            0|   Smith|655.77751| free|San Jose-Sunnyval...|   PUT|NextSong|1.541016707796E12|      583|       Sehr kosmisch|   200|1542241826796|\"Mozilla/5.0 (X11...|    26|2018-11-15 00:30:...|\n",
      "|The Prodigy|Logged In|     Ryan|     M|            1|   Smith|260.07465| free|San Jose-Sunnyval...|   PUT|NextSong|1.541016707796E12|      583|     The Big Gundown|   200|1542242481796|\"Mozilla/5.0 (X11...|    26|2018-11-15 00:41:...|\n",
      "|      Train|Logged In|     Ryan|     M|            2|   Smith|205.45261| free|San Jose-Sunnyval...|   PUT|NextSong|1.541016707796E12|      583|            Marry Me|   200|1542242741796|\"Mozilla/5.0 (X11...|    26|2018-11-15 00:45:...|\n",
      "|Sony Wonder|Logged In|   Samuel|     M|            0|Gonzalez|218.06975| free|Houston-The Woodl...|   PUT|NextSong|1.540492941796E12|      597|           Blackbird|   200|1542253449796|\"Mozilla/5.0 (Mac...|    61|2018-11-15 03:44:...|\n",
      "|  Van Halen|Logged In|    Tegan|     F|            2|  Levine|289.38404| paid|Portland-South Po...|   PUT|NextSong|1.540794356796E12|      602|Best Of Both Worl...|   200|1542260935796|\"Mozilla/5.0 (Mac...|    80|2018-11-15 05:48:...|\n",
      "+-----------+---------+---------+------+-------------+--------+---------+-----+--------------------+------+--------+-----------------+---------+--------------------+------+-------------+--------------------+------+--------------------+\n",
      "only showing top 5 rows\n",
      "\n"
     ]
    }
   ],
   "source": [
    "df_log_filtered = spark.sql(\"\"\"\n",
    "    SELECT *,\n",
    "    CAST(events.ts/1000 as Timestamp) AS start_time\n",
    "    FROM events\n",
    "    WHERE page='NextSong'\n",
    "\"\"\")\n",
    "df_log_filtered.show(5)"
   ]
  },
  {
   "cell_type": "code",
   "execution_count": 227,
   "metadata": {
    "editable": true
   },
   "outputs": [],
   "source": [
    "df_log_filtered.createOrReplaceTempView(\"events\");"
   ]
  },
  {
   "cell_type": "markdown",
   "metadata": {
    "editable": true
   },
   "source": [
    "**Users Table**"
   ]
  },
  {
   "cell_type": "code",
   "execution_count": 220,
   "metadata": {
    "editable": true
   },
   "outputs": [],
   "source": [
    "users_table = spark.sql(\"\"\"\n",
    "    SELECT DISTINCT(userId) AS user_id, \n",
    "        firstName AS first_name, \n",
    "        lastName AS last_name, \n",
    "        gender, \n",
    "        level \n",
    "    FROM events\n",
    "    WHERE page='NextSong'\n",
    "\"\"\");"
   ]
  },
  {
   "cell_type": "code",
   "execution_count": 221,
   "metadata": {
    "editable": true
   },
   "outputs": [
    {
     "name": "stdout",
     "output_type": "stream",
     "text": [
      "+-------+----------+---------+------+-----+\n",
      "|user_id|first_name|last_name|gender|level|\n",
      "+-------+----------+---------+------+-----+\n",
      "|     98|    Jordyn|   Powell|     F| free|\n",
      "|     34|    Evelin|    Ayala|     F| free|\n",
      "+-------+----------+---------+------+-----+\n",
      "only showing top 2 rows\n",
      "\n"
     ]
    }
   ],
   "source": [
    "users_table.show(2)"
   ]
  },
  {
   "cell_type": "code",
   "execution_count": 69,
   "metadata": {
    "editable": true
   },
   "outputs": [],
   "source": [
    "users_table.write.parquet('users/')"
   ]
  },
  {
   "cell_type": "markdown",
   "metadata": {
    "editable": true
   },
   "source": [
    "**Songplays Table**"
   ]
  },
  {
   "cell_type": "code",
   "execution_count": 228,
   "metadata": {
    "editable": true
   },
   "outputs": [
    {
     "name": "stdout",
     "output_type": "stream",
     "text": [
      "+--------------------+-------+------------------+------------------+-----+----------+--------------------+--------------------+----+-----+\n",
      "|          start_time|user_id|           song_id|         artist_id|level|session_id|            location|          user_agent|year|month|\n",
      "+--------------------+-------+------------------+------------------+-----+----------+--------------------+--------------------+----+-----+\n",
      "|2018-11-19 09:14:...|     24|SOGDBUF12A8C140FAA|AR558FS1187FB45658| paid|       672|Lake Havasu City-...|\"Mozilla/5.0 (Win...|2018|   11|\n",
      "|2018-11-14 05:06:...|     10|SOQFYBD12AB0182188|ARAADXM1187FB3ECDB| free|       484|Washington-Arling...|\"Mozilla/5.0 (Mac...|2018|   11|\n",
      "|2018-11-27 22:35:...|     80|SOGDBUF12A8C140FAA|AR558FS1187FB45658| paid|       992|Portland-South Po...|\"Mozilla/5.0 (Mac...|2018|   11|\n",
      "|2018-11-27 22:35:...|     80|SOQFYBD12AB0182188|ARAADXM1187FB3ECDB| paid|       992|Portland-South Po...|\"Mozilla/5.0 (Mac...|2018|   11|\n",
      "|2018-11-14 05:06:...|     10|SOGDBUF12A8C140FAA|AR558FS1187FB45658| free|       484|Washington-Arling...|\"Mozilla/5.0 (Mac...|2018|   11|\n",
      "+--------------------+-------+------------------+------------------+-----+----------+--------------------+--------------------+----+-----+\n",
      "only showing top 5 rows\n",
      "\n"
     ]
    }
   ],
   "source": [
    "songplays_table = spark.sql(\"\"\"\n",
    "    SELECT DISTINCT(start_time), \n",
    "        e.userId as user_id,\n",
    "        s.song_id,\n",
    "        s.artist_id,\n",
    "        e.level, \n",
    "        e.sessionId AS session_id, \n",
    "        e.location, \n",
    "        e.userAgent AS user_agent,\n",
    "        year(start_time) as year,\n",
    "        month(start_time) as month\n",
    "    FROM events e\n",
    "    JOIN songs s\n",
    "    ON s.title=e.song\n",
    "    DISTRIBUTE BY (year, month)    \n",
    "\"\"\");\n",
    "songplays_table.show(5)"
   ]
  },
  {
   "cell_type": "code",
   "execution_count": 191,
   "metadata": {
    "editable": true
   },
   "outputs": [],
   "source": [
    "songplays_table.write.partitionBy(\"year\", \"month\").parquet('songplays/')"
   ]
  },
  {
   "cell_type": "markdown",
   "metadata": {
    "editable": true
   },
   "source": [
    "**Time Table**"
   ]
  },
  {
   "cell_type": "code",
   "execution_count": 207,
   "metadata": {
    "editable": true
   },
   "outputs": [
    {
     "name": "stdout",
     "output_type": "stream",
     "text": [
      "+--------------------+----+---+-----+----+----+-------+\n",
      "|          start_time|hour|day|month|week|year|weekday|\n",
      "+--------------------+----+---+-----+----+----+-------+\n",
      "|2018-11-19 09:14:...|   9| 19|   11|  47|2018|      2|\n",
      "|2018-11-27 22:35:...|  22| 27|   11|  48|2018|      3|\n",
      "|2018-11-14 05:06:...|   5| 14|   11|  46|2018|      4|\n",
      "+--------------------+----+---+-----+----+----+-------+\n",
      "\n"
     ]
    }
   ],
   "source": [
    "time_table = spark.sql(\"\"\"   \n",
    "    SELECT DISTINCT(start_time),\n",
    "            hour(start_time) AS hour,\n",
    "            dayofmonth(start_time) AS day,\n",
    "            month(start_time) AS month,\n",
    "            weekofyear(start_time) AS week,\n",
    "            year(start_time) AS year,\n",
    "            dayofweek(start_time) AS weekday\n",
    "    FROM events e \n",
    "    DISTRIBUTE BY (year, month)\n",
    "\"\"\")\n",
    "time_table.show(5)"
   ]
  },
  {
   "cell_type": "code",
   "execution_count": 229,
   "metadata": {
    "editable": true
   },
   "outputs": [],
   "source": [
    "time_table.write.partitionBy(\"year\", \"month\").parquet('time/')"
   ]
  },
  {
   "cell_type": "code",
   "execution_count": null,
   "metadata": {
    "editable": true
   },
   "outputs": [],
   "source": [
    "# Reading parquet files"
   ]
  },
  {
   "cell_type": "code",
   "execution_count": 257,
   "metadata": {
    "editable": true
   },
   "outputs": [],
   "source": [
    "song_df = spark.read.parquet(\"songs/songs.parquet\")"
   ]
  },
  {
   "cell_type": "code",
   "execution_count": 262,
   "metadata": {
    "editable": true
   },
   "outputs": [],
   "source": [
    "time_df = spark.read.parquet(\"time/*/*/*.parquet\")"
   ]
  },
  {
   "cell_type": "code",
   "execution_count": 258,
   "metadata": {
    "editable": true
   },
   "outputs": [
    {
     "name": "stdout",
     "output_type": "stream",
     "text": [
      "+------------------+--------------------+---------+----+------------------+\n",
      "|           song_id|               title| duration|year|         artist_id|\n",
      "+------------------+--------------------+---------+----+------------------+\n",
      "|SOCEMJV12A6D4F7667|Giant Steps (Alte...|220.44689|   0|ARIOZCU1187FB3A3DC|\n",
      "|SODREIN12A58A7F2E5|A Whiter Shade Of...|326.00771|   0|ARLTWXK1187FB5A3F8|\n",
      "|SOWQTQZ12A58A7B63E|Streets On Fire (...|279.97995|   0|ARPFHN61187FB575F6|\n",
      "|SOAPVNX12AB0187625|I Remember Nights...| 249.3122|1998|AR5T40Y1187B9996C6|\n",
      "|SOMAPYF12A6D4FEC3E|All Day & All Of ...|156.62975|   0|AR5S9OB1187B9931E3|\n",
      "+------------------+--------------------+---------+----+------------------+\n",
      "only showing top 5 rows\n",
      "\n"
     ]
    }
   ],
   "source": [
    "song_df.show(5)"
   ]
  },
  {
   "cell_type": "code",
   "execution_count": 263,
   "metadata": {
    "editable": true
   },
   "outputs": [
    {
     "name": "stdout",
     "output_type": "stream",
     "text": [
      "+--------------------+----+---+----+-------+\n",
      "|          start_time|hour|day|week|weekday|\n",
      "+--------------------+----+---+----+-------+\n",
      "|2018-11-15 18:57:...|  18| 15|  46|      5|\n",
      "|2018-11-21 02:16:...|   2| 21|  47|      4|\n",
      "|2018-11-21 16:16:...|  16| 21|  47|      4|\n",
      "|2018-11-28 12:25:...|  12| 28|  48|      4|\n",
      "|2018-11-28 16:42:...|  16| 28|  48|      4|\n",
      "+--------------------+----+---+----+-------+\n",
      "only showing top 5 rows\n",
      "\n"
     ]
    }
   ],
   "source": [
    "time_df.show(5)"
   ]
  },
  {
   "cell_type": "code",
   "execution_count": 265,
   "metadata": {
    "editable": true
   },
   "outputs": [],
   "source": [
    "songplays_df = spark.read.parquet(\"songplays/*/*/*.parquet\")"
   ]
  },
  {
   "cell_type": "code",
   "execution_count": 266,
   "metadata": {
    "editable": true
   },
   "outputs": [
    {
     "name": "stdout",
     "output_type": "stream",
     "text": [
      "+--------------------+-------+------------------+------------------+-----+----------+--------------------+--------------------+\n",
      "|          start_time|user_id|           song_id|         artist_id|level|session_id|            location|          user_agent|\n",
      "+--------------------+-------+------------------+------------------+-----+----------+--------------------+--------------------+\n",
      "|2018-11-19 09:14:...|     24|SOGDBUF12A8C140FAA|AR558FS1187FB45658| paid|       672|Lake Havasu City-...|\"Mozilla/5.0 (Win...|\n",
      "|2018-11-14 05:06:...|     10|SOQFYBD12AB0182188|ARAADXM1187FB3ECDB| free|       484|Washington-Arling...|\"Mozilla/5.0 (Mac...|\n",
      "|2018-11-27 22:35:...|     80|SOGDBUF12A8C140FAA|AR558FS1187FB45658| paid|       992|Portland-South Po...|\"Mozilla/5.0 (Mac...|\n",
      "|2018-11-27 22:35:...|     80|SOQFYBD12AB0182188|ARAADXM1187FB3ECDB| paid|       992|Portland-South Po...|\"Mozilla/5.0 (Mac...|\n",
      "|2018-11-14 05:06:...|     10|SOGDBUF12A8C140FAA|AR558FS1187FB45658| free|       484|Washington-Arling...|\"Mozilla/5.0 (Mac...|\n",
      "+--------------------+-------+------------------+------------------+-----+----------+--------------------+--------------------+\n",
      "only showing top 5 rows\n",
      "\n"
     ]
    }
   ],
   "source": [
    "songplays_df.show(5)"
   ]
  },
  {
   "cell_type": "code",
   "execution_count": null,
   "metadata": {
    "editable": true
   },
   "outputs": [],
   "source": []
  }
 ],
 "metadata": {
  "kernelspec": {
   "display_name": "Python 3",
   "language": "python",
   "name": "python3"
  },
  "language_info": {
   "codemirror_mode": {
    "name": "ipython",
    "version": 3
   },
   "file_extension": ".py",
   "mimetype": "text/x-python",
   "name": "python",
   "nbconvert_exporter": "python",
   "pygments_lexer": "ipython3",
   "version": "3.6.3"
  }
 },
 "nbformat": 4,
 "nbformat_minor": 4
}
